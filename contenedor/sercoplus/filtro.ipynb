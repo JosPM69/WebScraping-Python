{
 "cells": [
  {
   "cell_type": "code",
   "execution_count": 18,
   "metadata": {},
   "outputs": [],
   "source": [
    "import pandas as pd\n",
    "from numpy import nan"
   ]
  },
  {
   "cell_type": "code",
   "execution_count": 19,
   "metadata": {},
   "outputs": [],
   "source": [
    "df = pd.read_csv(\"data_a_filtrar_s.csv\")"
   ]
  },
  {
   "cell_type": "code",
   "execution_count": 20,
   "metadata": {},
   "outputs": [
    {
     "data": {
      "text/html": [
       "<div>\n",
       "<style scoped>\n",
       "    .dataframe tbody tr th:only-of-type {\n",
       "        vertical-align: middle;\n",
       "    }\n",
       "\n",
       "    .dataframe tbody tr th {\n",
       "        vertical-align: top;\n",
       "    }\n",
       "\n",
       "    .dataframe thead th {\n",
       "        text-align: right;\n",
       "    }\n",
       "</style>\n",
       "<table border=\"1\" class=\"dataframe\">\n",
       "  <thead>\n",
       "    <tr style=\"text-align: right;\">\n",
       "      <th></th>\n",
       "      <th>Unnamed: 0</th>\n",
       "      <th>Unnamed: 0.1</th>\n",
       "      <th>Tienda</th>\n",
       "      <th>Categoría</th>\n",
       "      <th>Socket</th>\n",
       "      <th>Generación</th>\n",
       "      <th>Capacidad</th>\n",
       "      <th>Título</th>\n",
       "      <th>Stock</th>\n",
       "      <th>Precio</th>\n",
       "      <th>URL</th>\n",
       "    </tr>\n",
       "  </thead>\n",
       "  <tbody>\n",
       "    <tr>\n",
       "      <th>0</th>\n",
       "      <td>0</td>\n",
       "      <td>0</td>\n",
       "      <td>Sercoplus</td>\n",
       "      <td>MB</td>\n",
       "      <td>LGA1200</td>\n",
       "      <td>LGA1200</td>\n",
       "      <td>-</td>\n",
       "      <td>MAINBOARD ASROCK Z590 STEEL LEGEND, LGA 1200</td>\n",
       "      <td>14</td>\n",
       "      <td>(S/ 900,14)</td>\n",
       "      <td>https://www.sercoplus.com/socket-1200-/12335-m...</td>\n",
       "    </tr>\n",
       "    <tr>\n",
       "      <th>1</th>\n",
       "      <td>1</td>\n",
       "      <td>1</td>\n",
       "      <td>Sercoplus</td>\n",
       "      <td>MB</td>\n",
       "      <td>LGA1200</td>\n",
       "      <td>LGA1200</td>\n",
       "      <td>-</td>\n",
       "      <td>MAINBOARD MSI MAG B560 TOMAHAWK WIFI, LGA 1200</td>\n",
       "      <td>11</td>\n",
       "      <td>(S/ 744,48)</td>\n",
       "      <td>https://www.sercoplus.com/socket-1200-/12610-m...</td>\n",
       "    </tr>\n",
       "    <tr>\n",
       "      <th>2</th>\n",
       "      <td>2</td>\n",
       "      <td>2</td>\n",
       "      <td>Sercoplus</td>\n",
       "      <td>MB</td>\n",
       "      <td>LGA1200</td>\n",
       "      <td>LGA1200</td>\n",
       "      <td>-</td>\n",
       "      <td>MAINBOARD GIGABYTE Z590 VISION G, LGA 1200</td>\n",
       "      <td>9</td>\n",
       "      <td>(S/ 1.042,27)</td>\n",
       "      <td>https://www.sercoplus.com/socket-1200-/13471-m...</td>\n",
       "    </tr>\n",
       "    <tr>\n",
       "      <th>3</th>\n",
       "      <td>3</td>\n",
       "      <td>3</td>\n",
       "      <td>Sercoplus</td>\n",
       "      <td>MB</td>\n",
       "      <td>LGA1200</td>\n",
       "      <td>LGA1200</td>\n",
       "      <td>-</td>\n",
       "      <td>MAINBOARD ASROCK H570M PRO 4, LGA 1200</td>\n",
       "      <td>&gt;20</td>\n",
       "      <td>(S/ 503,84)</td>\n",
       "      <td>https://www.sercoplus.com/socket-1200-/12337-m...</td>\n",
       "    </tr>\n",
       "    <tr>\n",
       "      <th>4</th>\n",
       "      <td>4</td>\n",
       "      <td>4</td>\n",
       "      <td>Sercoplus</td>\n",
       "      <td>MB</td>\n",
       "      <td>LGA1200</td>\n",
       "      <td>LGA1200</td>\n",
       "      <td>-</td>\n",
       "      <td>MAINBOARD MSI MAG B560M BAZOOKA, LGA 1200</td>\n",
       "      <td>0</td>\n",
       "      <td>(S/ 579,04)</td>\n",
       "      <td>https://www.sercoplus.com/socket-1200-/12613-m...</td>\n",
       "    </tr>\n",
       "  </tbody>\n",
       "</table>\n",
       "</div>"
      ],
      "text/plain": [
       "   Unnamed: 0  Unnamed: 0.1     Tienda Categoría   Socket Generación  \\\n",
       "0           0             0  Sercoplus        MB  LGA1200    LGA1200   \n",
       "1           1             1  Sercoplus        MB  LGA1200    LGA1200   \n",
       "2           2             2  Sercoplus        MB  LGA1200    LGA1200   \n",
       "3           3             3  Sercoplus        MB  LGA1200    LGA1200   \n",
       "4           4             4  Sercoplus        MB  LGA1200    LGA1200   \n",
       "\n",
       "  Capacidad                                          Título  Stock  \\\n",
       "0         -    MAINBOARD ASROCK Z590 STEEL LEGEND, LGA 1200    14    \n",
       "1         -  MAINBOARD MSI MAG B560 TOMAHAWK WIFI, LGA 1200    11    \n",
       "2         -      MAINBOARD GIGABYTE Z590 VISION G, LGA 1200     9    \n",
       "3         -          MAINBOARD ASROCK H570M PRO 4, LGA 1200   >20    \n",
       "4         -       MAINBOARD MSI MAG B560M BAZOOKA, LGA 1200     0    \n",
       "\n",
       "          Precio                                                URL  \n",
       "0    (S/ 900,14)  https://www.sercoplus.com/socket-1200-/12335-m...  \n",
       "1    (S/ 744,48)  https://www.sercoplus.com/socket-1200-/12610-m...  \n",
       "2  (S/ 1.042,27)  https://www.sercoplus.com/socket-1200-/13471-m...  \n",
       "3    (S/ 503,84)  https://www.sercoplus.com/socket-1200-/12337-m...  \n",
       "4    (S/ 579,04)  https://www.sercoplus.com/socket-1200-/12613-m...  "
      ]
     },
     "execution_count": 20,
     "metadata": {},
     "output_type": "execute_result"
    }
   ],
   "source": [
    "df.head()"
   ]
  },
  {
   "cell_type": "markdown",
   "metadata": {},
   "source": [
    "# Limpieza de datos"
   ]
  },
  {
   "cell_type": "markdown",
   "metadata": {},
   "source": [
    "#### Precios"
   ]
  },
  {
   "cell_type": "code",
   "execution_count": 21,
   "metadata": {},
   "outputs": [
    {
     "name": "stdout",
     "output_type": "stream",
     "text": [
      "(S/ 744,48)\n",
      "<class 'str'>\n"
     ]
    }
   ],
   "source": [
    "print(df['Precio'][1])\n",
    "print(type(df['Precio'][1]))"
   ]
  },
  {
   "cell_type": "code",
   "execution_count": 22,
   "metadata": {},
   "outputs": [
    {
     "name": "stderr",
     "output_type": "stream",
     "text": [
      "C:\\Users\\Administrador\\AppData\\Local\\Temp\\ipykernel_22844\\3621046419.py:3: SettingWithCopyWarning: \n",
      "A value is trying to be set on a copy of a slice from a DataFrame\n",
      "\n",
      "See the caveats in the documentation: https://pandas.pydata.org/pandas-docs/stable/user_guide/indexing.html#returning-a-view-versus-a-copy\n",
      "  df['Precio'][i] = df['Precio'][i].replace('.','')\n",
      "C:\\Users\\Administrador\\AppData\\Local\\Temp\\ipykernel_22844\\3621046419.py:4: SettingWithCopyWarning: \n",
      "A value is trying to be set on a copy of a slice from a DataFrame\n",
      "\n",
      "See the caveats in the documentation: https://pandas.pydata.org/pandas-docs/stable/user_guide/indexing.html#returning-a-view-versus-a-copy\n",
      "  df['Precio'][i] = df['Precio'][i].replace(',','.')\n",
      "C:\\Users\\Administrador\\AppData\\Local\\Temp\\ipykernel_22844\\3621046419.py:8: SettingWithCopyWarning: \n",
      "A value is trying to be set on a copy of a slice from a DataFrame\n",
      "\n",
      "See the caveats in the documentation: https://pandas.pydata.org/pandas-docs/stable/user_guide/indexing.html#returning-a-view-versus-a-copy\n",
      "  df['Precio'][i] = str(df['Precio'][i].split(' ')[-1] + '')\n",
      "C:\\Users\\Administrador\\AppData\\Local\\Temp\\ipykernel_22844\\3621046419.py:9: SettingWithCopyWarning: \n",
      "A value is trying to be set on a copy of a slice from a DataFrame\n",
      "\n",
      "See the caveats in the documentation: https://pandas.pydata.org/pandas-docs/stable/user_guide/indexing.html#returning-a-view-versus-a-copy\n",
      "  df['Precio'][i] = str(df['Precio'][i].rstrip(df['Precio'][i][-1]))\n",
      "C:\\Users\\Administrador\\AppData\\Local\\Temp\\ipykernel_22844\\3621046419.py:10: SettingWithCopyWarning: \n",
      "A value is trying to be set on a copy of a slice from a DataFrame\n",
      "\n",
      "See the caveats in the documentation: https://pandas.pydata.org/pandas-docs/stable/user_guide/indexing.html#returning-a-view-versus-a-copy\n",
      "  df['Precio'][i] = float(df['Precio'][i])\n"
     ]
    }
   ],
   "source": [
    "for i in range(len(df['Precio'])):\n",
    "            if ',' in df['Precio'][i]:\n",
    "                df['Precio'][i] = df['Precio'][i].replace('.','')\n",
    "                df['Precio'][i] = df['Precio'][i].replace(',','.')\n",
    "\n",
    "for i in range(len(df['Precio'])):\n",
    "    if df['Precio'][i].split(' ')[0]=='(S/':\n",
    "        df['Precio'][i] = str(df['Precio'][i].split(' ')[-1] + '')\n",
    "        df['Precio'][i] = str(df['Precio'][i].rstrip(df['Precio'][i][-1]))\n",
    "        df['Precio'][i] = float(df['Precio'][i])\n",
    "    else:\n",
    "        df['Precio'][i] = nan"
   ]
  },
  {
   "cell_type": "code",
   "execution_count": 23,
   "metadata": {},
   "outputs": [
    {
     "name": "stdout",
     "output_type": "stream",
     "text": [
      "744.48 <class 'float'>\n"
     ]
    }
   ],
   "source": [
    "print(df['Precio'][1], type(df['Precio'][1]))"
   ]
  },
  {
   "cell_type": "markdown",
   "metadata": {},
   "source": [
    "#### Stock"
   ]
  },
  {
   "cell_type": "code",
   "execution_count": 24,
   "metadata": {},
   "outputs": [
    {
     "name": "stdout",
     "output_type": "stream",
     "text": [
      " 11  <class 'pandas.core.series.Series'>\n"
     ]
    }
   ],
   "source": [
    "print(df['Stock'][1], type(df['Stock']))"
   ]
  },
  {
   "cell_type": "code",
   "execution_count": 25,
   "metadata": {},
   "outputs": [
    {
     "name": "stderr",
     "output_type": "stream",
     "text": [
      "C:\\Users\\Administrador\\AppData\\Local\\Temp\\ipykernel_22844\\608357894.py:2: SettingWithCopyWarning: \n",
      "A value is trying to be set on a copy of a slice from a DataFrame\n",
      "\n",
      "See the caveats in the documentation: https://pandas.pydata.org/pandas-docs/stable/user_guide/indexing.html#returning-a-view-versus-a-copy\n",
      "  df['Stock'][i] = df['Stock'][i].split('>')[-1]\n",
      "C:\\Users\\Administrador\\AppData\\Local\\Temp\\ipykernel_22844\\608357894.py:3: SettingWithCopyWarning: \n",
      "A value is trying to be set on a copy of a slice from a DataFrame\n",
      "\n",
      "See the caveats in the documentation: https://pandas.pydata.org/pandas-docs/stable/user_guide/indexing.html#returning-a-view-versus-a-copy\n",
      "  df['Stock'][i] = int(df['Stock'][i])\n"
     ]
    }
   ],
   "source": [
    "for i in range(len(df['Stock'])):\n",
    "            df['Stock'][i] = df['Stock'][i].split('>')[-1] \n",
    "            df['Stock'][i] = int(df['Stock'][i])"
   ]
  },
  {
   "cell_type": "code",
   "execution_count": 26,
   "metadata": {},
   "outputs": [
    {
     "name": "stdout",
     "output_type": "stream",
     "text": [
      "11 <class 'pandas.core.series.Series'>\n"
     ]
    }
   ],
   "source": [
    "print(df['Stock'][1], type(df['Stock']))"
   ]
  },
  {
   "cell_type": "code",
   "execution_count": 27,
   "metadata": {},
   "outputs": [
    {
     "data": {
      "text/plain": [
       "(548, 11)"
      ]
     },
     "execution_count": 27,
     "metadata": {},
     "output_type": "execute_result"
    }
   ],
   "source": [
    "df.shape"
   ]
  },
  {
   "cell_type": "markdown",
   "metadata": {},
   "source": [
    "#### Por stock"
   ]
  },
  {
   "cell_type": "code",
   "execution_count": 28,
   "metadata": {},
   "outputs": [],
   "source": [
    "a_eliminar = df[df['Stock']<=4].index\n",
    "df = df.drop(a_eliminar)"
   ]
  },
  {
   "cell_type": "code",
   "execution_count": 29,
   "metadata": {},
   "outputs": [
    {
     "data": {
      "text/plain": [
       "(326, 11)"
      ]
     },
     "execution_count": 29,
     "metadata": {},
     "output_type": "execute_result"
    }
   ],
   "source": [
    "df.shape"
   ]
  },
  {
   "cell_type": "markdown",
   "metadata": {},
   "source": [
    "#### Detalle en las columnas"
   ]
  },
  {
   "cell_type": "code",
   "execution_count": 30,
   "metadata": {},
   "outputs": [
    {
     "data": {
      "text/plain": [
       "Index(['Unnamed: 0', 'Unnamed: 0.1', 'Tienda', 'Categoría', 'Socket',\n",
       "       'Generación', 'Capacidad', 'Título', 'Stock', 'Precio', 'URL'],\n",
       "      dtype='object')"
      ]
     },
     "execution_count": 30,
     "metadata": {},
     "output_type": "execute_result"
    }
   ],
   "source": [
    "df.columns"
   ]
  },
  {
   "cell_type": "code",
   "execution_count": 31,
   "metadata": {},
   "outputs": [],
   "source": [
    "df = df.drop(['Unnamed: 0','Unnamed: 0.1'], axis=1).set_index('Tienda')"
   ]
  },
  {
   "cell_type": "code",
   "execution_count": 32,
   "metadata": {},
   "outputs": [
    {
     "data": {
      "text/plain": [
       "Index(['Categoría', 'Socket', 'Generación', 'Capacidad', 'Título', 'Stock',\n",
       "       'Precio', 'URL'],\n",
       "      dtype='object')"
      ]
     },
     "execution_count": 32,
     "metadata": {},
     "output_type": "execute_result"
    }
   ],
   "source": [
    "df.columns"
   ]
  },
  {
   "cell_type": "code",
   "execution_count": 33,
   "metadata": {},
   "outputs": [
    {
     "data": {
      "text/plain": [
       "(326, 8)"
      ]
     },
     "execution_count": 33,
     "metadata": {},
     "output_type": "execute_result"
    }
   ],
   "source": [
    "df.shape"
   ]
  },
  {
   "cell_type": "code",
   "execution_count": 34,
   "metadata": {},
   "outputs": [
    {
     "data": {
      "text/plain": [
       "int"
      ]
     },
     "execution_count": 34,
     "metadata": {},
     "output_type": "execute_result"
    }
   ],
   "source": [
    "type(df.shape[0])"
   ]
  }
 ],
 "metadata": {
  "interpreter": {
   "hash": "7c3aacf2b5968be74301d0803070d6fd81a528a474a5d1b7d083ec3642b0c0a8"
  },
  "kernelspec": {
   "display_name": "Python 3.10.2 ('env_jj': venv)",
   "language": "python",
   "name": "python3"
  },
  "language_info": {
   "codemirror_mode": {
    "name": "ipython",
    "version": 3
   },
   "file_extension": ".py",
   "mimetype": "text/x-python",
   "name": "python",
   "nbconvert_exporter": "python",
   "pygments_lexer": "ipython3",
   "version": "3.10.2"
  },
  "orig_nbformat": 4
 },
 "nbformat": 4,
 "nbformat_minor": 2
}
