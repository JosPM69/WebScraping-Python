{
 "cells": [
  {
   "cell_type": "code",
   "execution_count": 1,
   "metadata": {},
   "outputs": [],
   "source": [
    "import pandas as pd #\n",
    "from numpy import nan"
   ]
  },
  {
   "cell_type": "code",
   "execution_count": 3,
   "metadata": {},
   "outputs": [],
   "source": [
    "df = pd.read_csv(\"data_a_filtrar.csv\")"
   ]
  },
  {
   "cell_type": "code",
   "execution_count": 4,
   "metadata": {},
   "outputs": [
    {
     "data": {
      "text/html": [
       "<div>\n",
       "<style scoped>\n",
       "    .dataframe tbody tr th:only-of-type {\n",
       "        vertical-align: middle;\n",
       "    }\n",
       "\n",
       "    .dataframe tbody tr th {\n",
       "        vertical-align: top;\n",
       "    }\n",
       "\n",
       "    .dataframe thead th {\n",
       "        text-align: right;\n",
       "    }\n",
       "</style>\n",
       "<table border=\"1\" class=\"dataframe\">\n",
       "  <thead>\n",
       "    <tr style=\"text-align: right;\">\n",
       "      <th></th>\n",
       "      <th>Unnamed: 0</th>\n",
       "      <th>Unnamed: 0.1</th>\n",
       "      <th>Tienda</th>\n",
       "      <th>Categoría</th>\n",
       "      <th>Socket</th>\n",
       "      <th>Generación</th>\n",
       "      <th>Capacidad</th>\n",
       "      <th>Título</th>\n",
       "      <th>Stock</th>\n",
       "      <th>Precio</th>\n",
       "      <th>URL</th>\n",
       "    </tr>\n",
       "  </thead>\n",
       "  <tbody>\n",
       "    <tr>\n",
       "      <th>0</th>\n",
       "      <td>0</td>\n",
       "      <td>0</td>\n",
       "      <td>CyC</td>\n",
       "      <td>MB</td>\n",
       "      <td>LGA1200-10</td>\n",
       "      <td>LGA1200</td>\n",
       "      <td>-</td>\n",
       "      <td>MB ASUS BUSINESS PRO B460M-C CSM DDR4 LGA 1200...</td>\n",
       "      <td>\\n\\t\\t\\t\\t\\tMayor a 10\\n\\t\\t\\t\\t</td>\n",
       "      <td>$130,00 - S/491,40</td>\n",
       "      <td>https://cyccomputer.pe/socket-lga-1200-10th/21...</td>\n",
       "    </tr>\n",
       "    <tr>\n",
       "      <th>1</th>\n",
       "      <td>1</td>\n",
       "      <td>1</td>\n",
       "      <td>CyC</td>\n",
       "      <td>MB</td>\n",
       "      <td>LGA1200-10</td>\n",
       "      <td>LGA1200</td>\n",
       "      <td>-</td>\n",
       "      <td>MB ASUS ROG MAXIMUS XII FORMULA DDR4 LGA 1200 ...</td>\n",
       "      <td>\\n\\t\\t\\t\\t\\t4\\n\\t\\t\\t\\t</td>\n",
       "      <td>$600,00 - S/2.268,00</td>\n",
       "      <td>https://cyccomputer.pe/socket-lga-1200-10th/15...</td>\n",
       "    </tr>\n",
       "    <tr>\n",
       "      <th>2</th>\n",
       "      <td>2</td>\n",
       "      <td>2</td>\n",
       "      <td>CyC</td>\n",
       "      <td>MB</td>\n",
       "      <td>LGA1200-10</td>\n",
       "      <td>LGA1200</td>\n",
       "      <td>-</td>\n",
       "      <td>MB GIGABYTE B460M DS3H V2 DDR4 LGA 1200</td>\n",
       "      <td>\\n\\t\\t\\t\\t\\t1\\n\\t\\t\\t\\t</td>\n",
       "      <td>$112,00 - S/423,36</td>\n",
       "      <td>https://cyccomputer.pe/socket-lga-1200-10th/18...</td>\n",
       "    </tr>\n",
       "    <tr>\n",
       "      <th>3</th>\n",
       "      <td>3</td>\n",
       "      <td>3</td>\n",
       "      <td>CyC</td>\n",
       "      <td>MB</td>\n",
       "      <td>LGA1200-10</td>\n",
       "      <td>LGA1200</td>\n",
       "      <td>-</td>\n",
       "      <td>MB ASUS ROG MAXIMUS XII HERO (WI-FI) DDR4 LGA ...</td>\n",
       "      <td>\\n\\t\\t\\t\\t\\t1\\n\\t\\t\\t\\t</td>\n",
       "      <td>$460,00 - S/1.738,80</td>\n",
       "      <td>https://cyccomputer.pe/socket-lga-1200-10th/15...</td>\n",
       "    </tr>\n",
       "    <tr>\n",
       "      <th>4</th>\n",
       "      <td>4</td>\n",
       "      <td>4</td>\n",
       "      <td>CyC</td>\n",
       "      <td>MB</td>\n",
       "      <td>LGA1200-10</td>\n",
       "      <td>LGA1200</td>\n",
       "      <td>-</td>\n",
       "      <td>MB GIGABYTE H410M H V3 DDR4 LGA 1200</td>\n",
       "      <td>\\n\\t\\t\\t\\t\\t0\\n\\t\\t\\t\\t</td>\n",
       "      <td>$89,50 - S/338,31</td>\n",
       "      <td>https://cyccomputer.pe/socket-lga-1200-10th/20...</td>\n",
       "    </tr>\n",
       "  </tbody>\n",
       "</table>\n",
       "</div>"
      ],
      "text/plain": [
       "   Unnamed: 0  Unnamed: 0.1 Tienda Categoría      Socket Generación Capacidad  \\\n",
       "0           0             0    CyC        MB  LGA1200-10    LGA1200         -   \n",
       "1           1             1    CyC        MB  LGA1200-10    LGA1200         -   \n",
       "2           2             2    CyC        MB  LGA1200-10    LGA1200         -   \n",
       "3           3             3    CyC        MB  LGA1200-10    LGA1200         -   \n",
       "4           4             4    CyC        MB  LGA1200-10    LGA1200         -   \n",
       "\n",
       "                                              Título  \\\n",
       "0  MB ASUS BUSINESS PRO B460M-C CSM DDR4 LGA 1200...   \n",
       "1  MB ASUS ROG MAXIMUS XII FORMULA DDR4 LGA 1200 ...   \n",
       "2            MB GIGABYTE B460M DS3H V2 DDR4 LGA 1200   \n",
       "3  MB ASUS ROG MAXIMUS XII HERO (WI-FI) DDR4 LGA ...   \n",
       "4               MB GIGABYTE H410M H V3 DDR4 LGA 1200   \n",
       "\n",
       "                              Stock                 Precio  \\\n",
       "0  \\n\\t\\t\\t\\t\\tMayor a 10\\n\\t\\t\\t\\t    $130,00 - S/491,40    \n",
       "1           \\n\\t\\t\\t\\t\\t4\\n\\t\\t\\t\\t  $600,00 - S/2.268,00    \n",
       "2           \\n\\t\\t\\t\\t\\t1\\n\\t\\t\\t\\t    $112,00 - S/423,36    \n",
       "3           \\n\\t\\t\\t\\t\\t1\\n\\t\\t\\t\\t  $460,00 - S/1.738,80    \n",
       "4           \\n\\t\\t\\t\\t\\t0\\n\\t\\t\\t\\t     $89,50 - S/338,31    \n",
       "\n",
       "                                                 URL  \n",
       "0  https://cyccomputer.pe/socket-lga-1200-10th/21...  \n",
       "1  https://cyccomputer.pe/socket-lga-1200-10th/15...  \n",
       "2  https://cyccomputer.pe/socket-lga-1200-10th/18...  \n",
       "3  https://cyccomputer.pe/socket-lga-1200-10th/15...  \n",
       "4  https://cyccomputer.pe/socket-lga-1200-10th/20...  "
      ]
     },
     "execution_count": 4,
     "metadata": {},
     "output_type": "execute_result"
    }
   ],
   "source": [
    "df.head()"
   ]
  },
  {
   "cell_type": "markdown",
   "metadata": {},
   "source": [
    "# Limpieza de datos"
   ]
  },
  {
   "cell_type": "markdown",
   "metadata": {},
   "source": [
    "#### Títulos"
   ]
  },
  {
   "cell_type": "code",
   "execution_count": 5,
   "metadata": {},
   "outputs": [
    {
     "data": {
      "text/plain": [
       "'MB ASUS ROG MAXIMUS XII FORMULA DDR4 LGA 1200 (PN:90MB1370-MOAAYO)'"
      ]
     },
     "execution_count": 5,
     "metadata": {},
     "output_type": "execute_result"
    }
   ],
   "source": [
    "df['Título'][1]"
   ]
  },
  {
   "cell_type": "code",
   "execution_count": 6,
   "metadata": {},
   "outputs": [
    {
     "data": {
      "text/plain": [
       "'MB ASUS ROG MAXIMUS XII FORMULA DDR4 LGA 1200 '"
      ]
     },
     "execution_count": 6,
     "metadata": {},
     "output_type": "execute_result"
    }
   ],
   "source": [
    "df['Título'][1].split('(')[0]"
   ]
  },
  {
   "cell_type": "code",
   "execution_count": 7,
   "metadata": {},
   "outputs": [
    {
     "name": "stderr",
     "output_type": "stream",
     "text": [
      "C:\\Users\\Administrador\\AppData\\Local\\Temp\\ipykernel_16732\\1232395151.py:2: SettingWithCopyWarning: \n",
      "A value is trying to be set on a copy of a slice from a DataFrame\n",
      "\n",
      "See the caveats in the documentation: https://pandas.pydata.org/pandas-docs/stable/user_guide/indexing.html#returning-a-view-versus-a-copy\n",
      "  df['Título'][i] = df['Título'][i].split('(')[0]\n"
     ]
    }
   ],
   "source": [
    "for i in range(len(df['Título'])):\n",
    "    df['Título'][i] = df['Título'][i].split('(')[0]"
   ]
  },
  {
   "cell_type": "code",
   "execution_count": 8,
   "metadata": {},
   "outputs": [
    {
     "data": {
      "text/plain": [
       "'MB ASUS ROG MAXIMUS XII FORMULA DDR4 LGA 1200 '"
      ]
     },
     "execution_count": 8,
     "metadata": {},
     "output_type": "execute_result"
    }
   ],
   "source": [
    "df['Título'][1]"
   ]
  },
  {
   "cell_type": "markdown",
   "metadata": {},
   "source": [
    "#### Precios"
   ]
  },
  {
   "cell_type": "code",
   "execution_count": 9,
   "metadata": {},
   "outputs": [
    {
     "name": "stdout",
     "output_type": "stream",
     "text": [
      "$600,00 - S/2.268,00 \n",
      "<class 'str'>\n"
     ]
    }
   ],
   "source": [
    "print(df['Precio'][1])\n",
    "print(type(df['Precio'][1]))"
   ]
  },
  {
   "cell_type": "code",
   "execution_count": 10,
   "metadata": {},
   "outputs": [
    {
     "name": "stderr",
     "output_type": "stream",
     "text": [
      "C:\\Users\\Administrador\\AppData\\Local\\Temp\\ipykernel_16732\\523391754.py:2: SettingWithCopyWarning: \n",
      "A value is trying to be set on a copy of a slice from a DataFrame\n",
      "\n",
      "See the caveats in the documentation: https://pandas.pydata.org/pandas-docs/stable/user_guide/indexing.html#returning-a-view-versus-a-copy\n",
      "  df['Precio'][i] = df['Precio'][i].split('S/')[1]\n",
      "C:\\Users\\Administrador\\AppData\\Local\\Temp\\ipykernel_16732\\523391754.py:3: SettingWithCopyWarning: \n",
      "A value is trying to be set on a copy of a slice from a DataFrame\n",
      "\n",
      "See the caveats in the documentation: https://pandas.pydata.org/pandas-docs/stable/user_guide/indexing.html#returning-a-view-versus-a-copy\n",
      "  df['Precio'][i] = df['Precio'][i].replace('.','')\n",
      "C:\\Users\\Administrador\\AppData\\Local\\Temp\\ipykernel_16732\\523391754.py:4: SettingWithCopyWarning: \n",
      "A value is trying to be set on a copy of a slice from a DataFrame\n",
      "\n",
      "See the caveats in the documentation: https://pandas.pydata.org/pandas-docs/stable/user_guide/indexing.html#returning-a-view-versus-a-copy\n",
      "  df['Precio'][i] = df['Precio'][i].replace(',','.')\n",
      "C:\\Users\\Administrador\\AppData\\Local\\Temp\\ipykernel_16732\\523391754.py:5: SettingWithCopyWarning: \n",
      "A value is trying to be set on a copy of a slice from a DataFrame\n",
      "\n",
      "See the caveats in the documentation: https://pandas.pydata.org/pandas-docs/stable/user_guide/indexing.html#returning-a-view-versus-a-copy\n",
      "  df['Precio'][i] = float(df['Precio'][i])\n"
     ]
    }
   ],
   "source": [
    "for i in range(len(df['Precio'])):\n",
    "            df['Precio'][i] = df['Precio'][i].split('S/')[1]\n",
    "            df['Precio'][i] = df['Precio'][i].replace('.','')\n",
    "            df['Precio'][i] = df['Precio'][i].replace(',','.')\n",
    "            df['Precio'][i] = float(df['Precio'][i])"
   ]
  },
  {
   "cell_type": "code",
   "execution_count": 11,
   "metadata": {},
   "outputs": [
    {
     "name": "stdout",
     "output_type": "stream",
     "text": [
      "2268.0 <class 'float'>\n"
     ]
    }
   ],
   "source": [
    "print(df['Precio'][1], type(df['Precio'][1]))"
   ]
  },
  {
   "cell_type": "markdown",
   "metadata": {},
   "source": [
    "#### Stock"
   ]
  },
  {
   "cell_type": "code",
   "execution_count": 12,
   "metadata": {},
   "outputs": [
    {
     "name": "stdout",
     "output_type": "stream",
     "text": [
      "\n",
      "\t\t\t\t\t4\n",
      "\t\t\t\t <class 'pandas.core.series.Series'>\n"
     ]
    }
   ],
   "source": [
    "print(df['Stock'][1], type(df['Stock']))"
   ]
  },
  {
   "cell_type": "code",
   "execution_count": 13,
   "metadata": {},
   "outputs": [
    {
     "name": "stderr",
     "output_type": "stream",
     "text": [
      "C:\\Users\\Administrador\\AppData\\Local\\Temp\\ipykernel_16732\\2535358950.py:8: SettingWithCopyWarning: \n",
      "A value is trying to be set on a copy of a slice from a DataFrame\n",
      "\n",
      "See the caveats in the documentation: https://pandas.pydata.org/pandas-docs/stable/user_guide/indexing.html#returning-a-view-versus-a-copy\n",
      "  df['Stock'][i] = 10\n",
      "C:\\Users\\Administrador\\AppData\\Local\\Temp\\ipykernel_16732\\2535358950.py:11: SettingWithCopyWarning: \n",
      "A value is trying to be set on a copy of a slice from a DataFrame\n",
      "\n",
      "See the caveats in the documentation: https://pandas.pydata.org/pandas-docs/stable/user_guide/indexing.html#returning-a-view-versus-a-copy\n",
      "  df['Stock'][i] = int(df['Stock'][i])\n",
      "C:\\Users\\Administrador\\AppData\\Local\\Temp\\ipykernel_16732\\2535358950.py:6: SettingWithCopyWarning: \n",
      "A value is trying to be set on a copy of a slice from a DataFrame\n",
      "\n",
      "See the caveats in the documentation: https://pandas.pydata.org/pandas-docs/stable/user_guide/indexing.html#returning-a-view-versus-a-copy\n",
      "  df['Stock'][i]= lst[6]\n",
      "C:\\Users\\Administrador\\AppData\\Local\\Temp\\ipykernel_16732\\2535358950.py:10: SettingWithCopyWarning: \n",
      "A value is trying to be set on a copy of a slice from a DataFrame\n",
      "\n",
      "See the caveats in the documentation: https://pandas.pydata.org/pandas-docs/stable/user_guide/indexing.html#returning-a-view-versus-a-copy\n",
      "  df['Stock'][i] = 0\n"
     ]
    }
   ],
   "source": [
    "for i in range(len(df['Stock'])):\n",
    "            lst = []\n",
    "            for j in df['Stock'][i]:\n",
    "                lst.append(j)\n",
    "            if len(lst) == 12:\n",
    "                df['Stock'][i]= lst[6]\n",
    "            elif len(lst) >= 13:\n",
    "                df['Stock'][i] = 10\n",
    "            else:\n",
    "                df['Stock'][i] = 0\n",
    "            df['Stock'][i] = int(df['Stock'][i])"
   ]
  },
  {
   "cell_type": "code",
   "execution_count": 14,
   "metadata": {},
   "outputs": [
    {
     "name": "stdout",
     "output_type": "stream",
     "text": [
      "4 <class 'pandas.core.series.Series'>\n"
     ]
    }
   ],
   "source": [
    "print(df['Stock'][1], type(df['Stock']))"
   ]
  },
  {
   "cell_type": "markdown",
   "metadata": {},
   "source": [
    "#### Detalle procesador"
   ]
  },
  {
   "cell_type": "code",
   "execution_count": 15,
   "metadata": {},
   "outputs": [
    {
     "data": {
      "text/plain": [
       "(69, 11)"
      ]
     },
     "execution_count": 15,
     "metadata": {},
     "output_type": "execute_result"
    }
   ],
   "source": [
    "df[df['Categoría']=='Procesador'].shape"
   ]
  },
  {
   "cell_type": "code",
   "execution_count": 16,
   "metadata": {},
   "outputs": [],
   "source": [
    "df['Categoría'] = df.Categoría.replace({'Procesador':'CPU'}) #Reemplazando el valor de Procesador por CPU"
   ]
  },
  {
   "cell_type": "code",
   "execution_count": 17,
   "metadata": {},
   "outputs": [
    {
     "data": {
      "text/plain": [
       "array(['MB', 'CPU', 'RAM', 'Almacenamiento', 'GPU', 'PSU', 'Case', 'PC',\n",
       "       'Laptop'], dtype=object)"
      ]
     },
     "execution_count": 17,
     "metadata": {},
     "output_type": "execute_result"
    }
   ],
   "source": [
    "df['Categoría'].unique()"
   ]
  },
  {
   "cell_type": "code",
   "execution_count": 18,
   "metadata": {},
   "outputs": [
    {
     "data": {
      "text/plain": [
       "array(['LGA1200', 'LGA1700', 'AM4', 'I3', 'I9', 'I5', 'I7', nan, '5', '3',\n",
       "       '4', '7', '9', '6', '8', 'DDR4', 'DDR5', 'DDR3', 'DISCO', 'SSD',\n",
       "       '-', 'All'], dtype=object)"
      ]
     },
     "execution_count": 18,
     "metadata": {},
     "output_type": "execute_result"
    }
   ],
   "source": [
    "df['Generación'].unique()"
   ]
  },
  {
   "cell_type": "code",
   "execution_count": 19,
   "metadata": {},
   "outputs": [
    {
     "data": {
      "text/html": [
       "<div>\n",
       "<style scoped>\n",
       "    .dataframe tbody tr th:only-of-type {\n",
       "        vertical-align: middle;\n",
       "    }\n",
       "\n",
       "    .dataframe tbody tr th {\n",
       "        vertical-align: top;\n",
       "    }\n",
       "\n",
       "    .dataframe thead th {\n",
       "        text-align: right;\n",
       "    }\n",
       "</style>\n",
       "<table border=\"1\" class=\"dataframe\">\n",
       "  <thead>\n",
       "    <tr style=\"text-align: right;\">\n",
       "      <th></th>\n",
       "      <th>Unnamed: 0</th>\n",
       "      <th>Unnamed: 0.1</th>\n",
       "      <th>Tienda</th>\n",
       "      <th>Categoría</th>\n",
       "      <th>Socket</th>\n",
       "      <th>Generación</th>\n",
       "      <th>Capacidad</th>\n",
       "      <th>Título</th>\n",
       "      <th>Stock</th>\n",
       "      <th>Precio</th>\n",
       "      <th>URL</th>\n",
       "    </tr>\n",
       "  </thead>\n",
       "  <tbody>\n",
       "    <tr>\n",
       "      <th>217</th>\n",
       "      <td>4</td>\n",
       "      <td>4</td>\n",
       "      <td>CyC</td>\n",
       "      <td>CPU</td>\n",
       "      <td>AM4</td>\n",
       "      <td>4</td>\n",
       "      <td>-</td>\n",
       "      <td>PROCESADOR AMD ATHLON II X4 631/2.6GHZ - FM1</td>\n",
       "      <td>10</td>\n",
       "      <td>264.6</td>\n",
       "      <td>https://cyccomputer.pe/saldos-amd/2373-procesa...</td>\n",
       "    </tr>\n",
       "  </tbody>\n",
       "</table>\n",
       "</div>"
      ],
      "text/plain": [
       "     Unnamed: 0  Unnamed: 0.1 Tienda Categoría Socket Generación Capacidad  \\\n",
       "217           4             4    CyC       CPU    AM4          4         -   \n",
       "\n",
       "                                           Título Stock Precio  \\\n",
       "217  PROCESADOR AMD ATHLON II X4 631/2.6GHZ - FM1    10  264.6   \n",
       "\n",
       "                                                   URL  \n",
       "217  https://cyccomputer.pe/saldos-amd/2373-procesa...  "
      ]
     },
     "execution_count": 19,
     "metadata": {},
     "output_type": "execute_result"
    }
   ],
   "source": [
    "df[(df['Categoría']=='CPU') & (df['Generación']=='4')]"
   ]
  },
  {
   "cell_type": "code",
   "execution_count": 20,
   "metadata": {},
   "outputs": [],
   "source": [
    "eliminar = df.index[(df['Categoría']=='CPU') & (df['Generación']=='4')]"
   ]
  },
  {
   "cell_type": "code",
   "execution_count": 21,
   "metadata": {},
   "outputs": [],
   "source": [
    "df = df.drop(eliminar) #Eliminando el valor filtrado"
   ]
  },
  {
   "cell_type": "code",
   "execution_count": 22,
   "metadata": {},
   "outputs": [
    {
     "data": {
      "text/html": [
       "<div>\n",
       "<style scoped>\n",
       "    .dataframe tbody tr th:only-of-type {\n",
       "        vertical-align: middle;\n",
       "    }\n",
       "\n",
       "    .dataframe tbody tr th {\n",
       "        vertical-align: top;\n",
       "    }\n",
       "\n",
       "    .dataframe thead th {\n",
       "        text-align: right;\n",
       "    }\n",
       "</style>\n",
       "<table border=\"1\" class=\"dataframe\">\n",
       "  <thead>\n",
       "    <tr style=\"text-align: right;\">\n",
       "      <th></th>\n",
       "      <th>Unnamed: 0</th>\n",
       "      <th>Unnamed: 0.1</th>\n",
       "      <th>Tienda</th>\n",
       "      <th>Categoría</th>\n",
       "      <th>Socket</th>\n",
       "      <th>Generación</th>\n",
       "      <th>Capacidad</th>\n",
       "      <th>Título</th>\n",
       "      <th>Stock</th>\n",
       "      <th>Precio</th>\n",
       "      <th>URL</th>\n",
       "    </tr>\n",
       "  </thead>\n",
       "  <tbody>\n",
       "  </tbody>\n",
       "</table>\n",
       "</div>"
      ],
      "text/plain": [
       "Empty DataFrame\n",
       "Columns: [Unnamed: 0, Unnamed: 0.1, Tienda, Categoría, Socket, Generación, Capacidad, Título, Stock, Precio, URL]\n",
       "Index: []"
      ]
     },
     "execution_count": 22,
     "metadata": {},
     "output_type": "execute_result"
    }
   ],
   "source": [
    "df[(df['Categoría']=='CPU') & (df['Generación']=='4')]"
   ]
  },
  {
   "cell_type": "code",
   "execution_count": 23,
   "metadata": {},
   "outputs": [
    {
     "data": {
      "text/plain": [
       "(766, 11)"
      ]
     },
     "execution_count": 23,
     "metadata": {},
     "output_type": "execute_result"
    }
   ],
   "source": [
    "df.shape"
   ]
  },
  {
   "cell_type": "markdown",
   "metadata": {},
   "source": [
    "#### Por stock"
   ]
  },
  {
   "cell_type": "code",
   "execution_count": 24,
   "metadata": {},
   "outputs": [],
   "source": [
    "a_eliminar = df[df['Stock']<=4].index\n",
    "df = df.drop(a_eliminar)"
   ]
  },
  {
   "cell_type": "code",
   "execution_count": 25,
   "metadata": {},
   "outputs": [
    {
     "data": {
      "text/plain": [
       "(254, 11)"
      ]
     },
     "execution_count": 25,
     "metadata": {},
     "output_type": "execute_result"
    }
   ],
   "source": [
    "df.shape"
   ]
  },
  {
   "cell_type": "markdown",
   "metadata": {},
   "source": [
    "#### Detalle en las columnas"
   ]
  },
  {
   "cell_type": "code",
   "execution_count": 26,
   "metadata": {},
   "outputs": [
    {
     "data": {
      "text/plain": [
       "Index(['Unnamed: 0', 'Unnamed: 0.1', 'Tienda', 'Categoría', 'Socket',\n",
       "       'Generación', 'Capacidad', 'Título', 'Stock', 'Precio', 'URL'],\n",
       "      dtype='object')"
      ]
     },
     "execution_count": 26,
     "metadata": {},
     "output_type": "execute_result"
    }
   ],
   "source": [
    "df.columns"
   ]
  },
  {
   "cell_type": "code",
   "execution_count": 27,
   "metadata": {},
   "outputs": [],
   "source": [
    "df = df.drop(['Unnamed: 0','Unnamed: 0.1'], axis=1).set_index('Tienda')"
   ]
  },
  {
   "cell_type": "code",
   "execution_count": 28,
   "metadata": {},
   "outputs": [
    {
     "data": {
      "text/plain": [
       "Index(['Categoría', 'Socket', 'Generación', 'Capacidad', 'Título', 'Stock',\n",
       "       'Precio', 'URL'],\n",
       "      dtype='object')"
      ]
     },
     "execution_count": 28,
     "metadata": {},
     "output_type": "execute_result"
    }
   ],
   "source": [
    "df.columns"
   ]
  },
  {
   "cell_type": "code",
   "execution_count": 29,
   "metadata": {},
   "outputs": [
    {
     "data": {
      "text/plain": [
       "(254, 8)"
      ]
     },
     "execution_count": 29,
     "metadata": {},
     "output_type": "execute_result"
    }
   ],
   "source": [
    "df.shape"
   ]
  },
  {
   "cell_type": "code",
   "execution_count": 30,
   "metadata": {},
   "outputs": [
    {
     "data": {
      "text/plain": [
       "int"
      ]
     },
     "execution_count": 30,
     "metadata": {},
     "output_type": "execute_result"
    }
   ],
   "source": [
    "type(df.shape[0])"
   ]
  }
 ],
 "metadata": {
  "interpreter": {
   "hash": "7c3aacf2b5968be74301d0803070d6fd81a528a474a5d1b7d083ec3642b0c0a8"
  },
  "kernelspec": {
   "display_name": "Python 3.10.2 ('env_jj': venv)",
   "language": "python",
   "name": "python3"
  },
  "language_info": {
   "codemirror_mode": {
    "name": "ipython",
    "version": 3
   },
   "file_extension": ".py",
   "mimetype": "text/x-python",
   "name": "python",
   "nbconvert_exporter": "python",
   "pygments_lexer": "ipython3",
   "version": "3.10.2"
  },
  "orig_nbformat": 4
 },
 "nbformat": 4,
 "nbformat_minor": 2
}
